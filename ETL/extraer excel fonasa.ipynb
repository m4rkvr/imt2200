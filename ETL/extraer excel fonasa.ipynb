{
 "cells": [
  {
   "cell_type": "code",
   "execution_count": null,
   "id": "0f6dcd5b-a93f-43b8-aaa7-67a35644b605",
   "metadata": {},
   "outputs": [],
   "source": [
    "from tabula import read_pdf\n",
    "import pandas as pd\n",
    "\n",
    "# Leer el PDF \n",
    "df = read_pdf(\"../data/Libro Arancel MLE 2024 edit (1).pdf\", pages=\"all\", multiple_tables=True)\n",
    "\n",
    "# Guardar en un archivo Excel\n",
    "with pd.ExcelWriter(\"excel_prestaciones_fonasa.xlsx\") as writer:\n",
    "    for i, table in enumerate(df):\n",
    "        table.to_excel(writer, sheet_name=f'Sheet{i+1}', index=False)"
   ]
  },
  {
   "cell_type": "code",
   "execution_count": null,
   "id": "d2ce133f",
   "metadata": {},
   "outputs": [],
   "source": [
    "# Leer el Excel \n",
    "combined_df = pd.DataFrame()\n",
    "sheets = pd.ExcelFile(\"excel_prestaciones_fonasa.xlsx\").sheet_names\n",
    "\n",
    "# Combinar todas las hojas en un solo DataFrame\n",
    "for sheet in sheets:\n",
    "    sheet_df = pd.read_excel(\"excel_prestaciones_fonasa.xlsx\", sheet_name=sheet)\n",
    "    combined_df = pd.concat([combined_df, sheet_df], ignore_index=True)\n",
    "\n",
    "# Guardar el DataFrame combinado en un archivo CSV\n",
    "combined_df.to_csv(\"todas_prestaciones_fonasa.csv\", index=False, encoding='utf-8-sig')"
   ]
  }
 ],
 "metadata": {
  "kernelspec": {
   "display_name": "mientorno",
   "language": "python",
   "name": "python3"
  },
  "language_info": {
   "codemirror_mode": {
    "name": "ipython",
    "version": 3
   },
   "file_extension": ".py",
   "mimetype": "text/x-python",
   "name": "python",
   "nbconvert_exporter": "python",
   "pygments_lexer": "ipython3",
   "version": "3.12.5"
  }
 },
 "nbformat": 4,
 "nbformat_minor": 5
}
