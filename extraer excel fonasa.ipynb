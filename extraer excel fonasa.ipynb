{
 "cells": [
  {
   "cell_type": "code",
   "execution_count": 1,
   "id": "0f6dcd5b-a93f-43b8-aaa7-67a35644b605",
   "metadata": {},
   "outputs": [],
   "source": [
    "from tabula import read_pdf\n",
    "import pandas as pd\n",
    "\n",
    "# Leer tablas del PDF (puedes especificar `pages=\"all\"` para todas las páginas)\n",
    "df = read_pdf(\"1 Libro Arancel MLE 2024 edit (1).pdf\", pages=\"all\", multiple_tables=True)\n",
    "\n",
    "# Guardar las tablas en un archivo de Excel\n",
    "with pd.ExcelWriter(\"output.xlsx\") as writer:\n",
    "    for i, table in enumerate(df):\n",
    "        table.to_excel(writer, sheet_name=f'Sheet{i+1}', index=False)"
   ]
  }
 ],
 "metadata": {
  "kernelspec": {
   "display_name": "mientorno",
   "language": "python",
   "name": "python3"
  },
  "language_info": {
   "codemirror_mode": {
    "name": "ipython",
    "version": 3
   },
   "file_extension": ".py",
   "mimetype": "text/x-python",
   "name": "python",
   "nbconvert_exporter": "python",
   "pygments_lexer": "ipython3",
   "version": "3.12.5"
  }
 },
 "nbformat": 4,
 "nbformat_minor": 5
}
