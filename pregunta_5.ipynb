{
 "cells": [
  {
   "cell_type": "markdown",
   "metadata": {},
   "source": [
    "**¿Cómo cambia el gasto promedio en copagos a medida que los beneficiarios envejecen?**"
   ]
  },
  {
   "cell_type": "markdown",
   "metadata": {},
   "source": [
    "Para la pregunta importante que hagan:  \n",
    "1. Contexto y por que queremos conocer la respuesta  \n",
    "2. Por que elegimos esas variables y que representan  \n",
    "3. Codigo  \n",
    "4. Graficos   \n",
    "5. Respuesta  \n",
    "\n",
    "https://docs.google.com/document/d/1R72ZKTbxHIYD-pZi2cijGSqUsZ4KzQ1N0nl0RQyObv8/edit?tab=t.0"
   ]
  },
  {
   "cell_type": "markdown",
   "metadata": {},
   "source": [
    "El tiempo no pasa factura, es sabido que personas de la 3ra edad suelen ir con mayor frecuencia al medico y por implicancia sus gastos medicos deben aumentar, pero la pregunta es... Que tanto aumentan estos gastos, existe un punto de quiebre o es gradual?.  \n",
    "Más aun, se puede predecir el gasto promedio medico en Chile segun la edad de personas adscritas a FONASA?. Si pensamos en agrupar segun region, genero, tramo de fonasa, etc... existen diferencias clave?."
   ]
  },
  {
   "cell_type": "code",
   "execution_count": 4,
   "metadata": {},
   "outputs": [],
   "source": [
    "import numpy as np\n",
    "import pandas as pd\n",
    "import matplotlib.pyplot as plt\n",
    "import pyarrow.parquet as pq\n",
    "\n",
    "with open(\"Beneficiarios Innominada 2023/export MLE 2023.csv\", encoding='utf-8', errors='ignore') as f:\n",
    "    benef_2023_df = pd.read_csv(f, nrows=1000)\n",
    "with open(\"Beneficiarios Innominada 2023/Beneficiarios Fonasa 2023.csv\", encoding='utf-8', errors='ignore') as f:\n",
    "    mle_2023_df = pd.read_csv(f, nrows=1000)"
   ]
  },
  {
   "cell_type": "code",
   "execution_count": 5,
   "metadata": {},
   "outputs": [],
   "source": [
    "mle_2023_df = mle_2023_df.rename(columns={'PRESTRACIONES': 'PRESTACIONES'})\n"
   ]
  },
  {
   "cell_type": "code",
   "execution_count": null,
   "metadata": {},
   "outputs": [],
   "source": [
    "benef_2023_df"
   ]
  },
  {
   "cell_type": "code",
   "execution_count": null,
   "metadata": {},
   "outputs": [],
   "source": [
    "mle_2023_df"
   ]
  }
 ],
 "metadata": {
  "kernelspec": {
   "display_name": "Python 3",
   "language": "python",
   "name": "python3"
  },
  "language_info": {
   "codemirror_mode": {
    "name": "ipython",
    "version": 3
   },
   "file_extension": ".py",
   "mimetype": "text/x-python",
   "name": "python",
   "nbconvert_exporter": "python",
   "pygments_lexer": "ipython3",
   "version": "3.10.11"
  }
 },
 "nbformat": 4,
 "nbformat_minor": 2
}
